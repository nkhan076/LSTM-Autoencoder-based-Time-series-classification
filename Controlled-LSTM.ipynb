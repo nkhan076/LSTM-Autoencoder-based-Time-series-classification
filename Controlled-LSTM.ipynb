{
 "cells": [
  {
   "cell_type": "code",
   "execution_count": 1,
   "metadata": {
    "ExecuteTime": {
     "end_time": "2022-12-13T23:32:10.214319Z",
     "start_time": "2022-12-13T23:32:07.549846Z"
    }
   },
   "outputs": [],
   "source": [
    "import pandas as pd\n",
    "import numpy as np\n",
    "import os\n",
    "from tensorflow.keras import metrics\n",
    "from tensorflow.keras.layers import Input, LSTM, RepeatVector, Dense, TimeDistributed\n",
    "# import keras\n",
    "import tensorflow as tf\n",
    "from tensorflow.keras.models import Model\n",
    "from tensorflow.keras.utils import to_categorical\n",
    "from tensorflow.keras.models import save_model\n",
    "from util import *\n",
    "from model import *"
   ]
  },
  {
   "cell_type": "code",
   "execution_count": 2,
   "metadata": {
    "ExecuteTime": {
     "end_time": "2022-12-13T23:32:10.493266Z",
     "start_time": "2022-12-13T23:32:10.217879Z"
    }
   },
   "outputs": [
    {
     "name": "stdout",
     "output_type": "stream",
     "text": [
      "Index(['Unnamed: 0', 'Timestamp', 'DateTime', 'X', 'Y', 'Z', 'user', 'user_id',\n",
      "       'is_controlled', 'label'],\n",
      "      dtype='object')\n",
      "   Unnamed: 0      Timestamp               DateTime         X         Y  \\\n",
      "0           0  1550893511286  Feb 22, 2019 22:45:11  0.968506  0.117676   \n",
      "1           1  1550893511318  Feb 22, 2019 22:45:11  1.016113  0.131592   \n",
      "2           2  1550893511332  Feb 22, 2019 22:45:11  1.020020  0.100830   \n",
      "3           3  1550893511365  Feb 22, 2019 22:45:11  0.990479  0.073486   \n",
      "4           4  1550893511406  Feb 22, 2019 22:45:11  0.946777  0.072266   \n",
      "\n",
      "          Z    user  user_id is_controlled  label  \n",
      "0  0.313721  ashwaq        1    controlled  cream  \n",
      "1  0.382324  ashwaq        1    controlled  cream  \n",
      "2  0.397705  ashwaq        1    controlled  cream  \n",
      "3  0.377441  ashwaq        1    controlled  cream  \n",
      "4  0.355957  ashwaq        1    controlled  cream  \n"
     ]
    }
   ],
   "source": [
    "es = pd.read_csv(\"controlled.csv\")\n",
    "\n",
    "print(es.columns)\n",
    "\n",
    "print(es.head())"
   ]
  },
  {
   "cell_type": "code",
   "execution_count": 3,
   "metadata": {
    "ExecuteTime": {
     "end_time": "2022-12-13T23:32:10.678702Z",
     "start_time": "2022-12-13T23:32:10.494940Z"
    }
   },
   "outputs": [
    {
     "name": "stdout",
     "output_type": "stream",
     "text": [
      "['blush' 'cream' 'eye' 'gloss' 'mascara']\n"
     ]
    }
   ],
   "source": [
    "print(np.unique(es['label']))"
   ]
  },
  {
   "cell_type": "code",
   "execution_count": 4,
   "metadata": {
    "ExecuteTime": {
     "end_time": "2022-12-13T23:32:10.966804Z",
     "start_time": "2022-12-13T23:32:10.679934Z"
    }
   },
   "outputs": [],
   "source": [
    "data_labels = list(np.unique(es['label'])) #['blush', 'cream', 'eye', 'gloss', 'mascara']\n",
    "\n",
    "num_labels = [0,1,2,3,4]\n",
    "\n",
    "es['num_label'] = es['label'].apply(data_labels.index)"
   ]
  },
  {
   "cell_type": "code",
   "execution_count": 5,
   "metadata": {
    "ExecuteTime": {
     "end_time": "2022-12-13T23:32:10.975595Z",
     "start_time": "2022-12-13T23:32:10.968438Z"
    }
   },
   "outputs": [],
   "source": [
    "user_ids = es['user_id']\n",
    "num_labels= es['num_label']\n",
    "alph_labels = es['label']\n",
    "cat_labels = to_categorical(num_labels)\n",
    "# print(cat_labels.shape)"
   ]
  },
  {
   "cell_type": "code",
   "execution_count": 6,
   "metadata": {
    "ExecuteTime": {
     "end_time": "2022-12-13T23:32:10.984041Z",
     "start_time": "2022-12-13T23:32:10.977003Z"
    }
   },
   "outputs": [],
   "source": [
    "# es.to_csv('controlled_new.csv')"
   ]
  },
  {
   "cell_type": "markdown",
   "metadata": {},
   "source": [
    "# Data processing"
   ]
  },
  {
   "cell_type": "code",
   "execution_count": 7,
   "metadata": {
    "ExecuteTime": {
     "end_time": "2022-12-13T23:32:22.415578Z",
     "start_time": "2022-12-13T23:32:22.388298Z"
    }
   },
   "outputs": [
    {
     "data": {
      "text/plain": [
       "Index(['X', 'Y', 'Z'], dtype='object')"
      ]
     },
     "execution_count": 7,
     "metadata": {},
     "output_type": "execute_result"
    }
   ],
   "source": [
    "es= es.drop(['Unnamed: 0', 'DateTime', 'user', 'user_id', 'label', 'num_label', 'is_controlled', 'Timestamp'], axis=1)\n",
    "es.columns"
   ]
  },
  {
   "cell_type": "code",
   "execution_count": 8,
   "metadata": {
    "ExecuteTime": {
     "end_time": "2022-12-13T23:32:24.866697Z",
     "start_time": "2022-12-13T23:32:24.859476Z"
    }
   },
   "outputs": [
    {
     "data": {
      "text/plain": [
       "222454"
      ]
     },
     "execution_count": 8,
     "metadata": {},
     "output_type": "execute_result"
    }
   ],
   "source": [
    "len(es)"
   ]
  },
  {
   "cell_type": "code",
   "execution_count": 9,
   "metadata": {
    "ExecuteTime": {
     "end_time": "2022-12-13T23:32:25.757906Z",
     "start_time": "2022-12-13T23:32:25.752801Z"
    }
   },
   "outputs": [],
   "source": [
    "# feats, train_X, train_Y, test_X, test_Y, X = generate_datasets_for_training(es, user_ids, labels, 4)\n",
    "epochs = 100\n",
    "batch_size = 32\n",
    "window_length = 4"
   ]
  },
  {
   "cell_type": "code",
   "execution_count": 10,
   "metadata": {
    "ExecuteTime": {
     "end_time": "2022-12-13T23:32:26.628041Z",
     "start_time": "2022-12-13T23:32:26.611273Z"
    }
   },
   "outputs": [
    {
     "data": {
      "text/html": [
       "<div>\n",
       "<style scoped>\n",
       "    .dataframe tbody tr th:only-of-type {\n",
       "        vertical-align: middle;\n",
       "    }\n",
       "\n",
       "    .dataframe tbody tr th {\n",
       "        vertical-align: top;\n",
       "    }\n",
       "\n",
       "    .dataframe thead th {\n",
       "        text-align: right;\n",
       "    }\n",
       "</style>\n",
       "<table border=\"1\" class=\"dataframe\">\n",
       "  <thead>\n",
       "    <tr style=\"text-align: right;\">\n",
       "      <th></th>\n",
       "      <th>X</th>\n",
       "      <th>Y</th>\n",
       "      <th>Z</th>\n",
       "    </tr>\n",
       "  </thead>\n",
       "  <tbody>\n",
       "    <tr>\n",
       "      <th>0</th>\n",
       "      <td>0.968506</td>\n",
       "      <td>0.117676</td>\n",
       "      <td>0.313721</td>\n",
       "    </tr>\n",
       "    <tr>\n",
       "      <th>1</th>\n",
       "      <td>1.016113</td>\n",
       "      <td>0.131592</td>\n",
       "      <td>0.382324</td>\n",
       "    </tr>\n",
       "    <tr>\n",
       "      <th>2</th>\n",
       "      <td>1.020020</td>\n",
       "      <td>0.100830</td>\n",
       "      <td>0.397705</td>\n",
       "    </tr>\n",
       "    <tr>\n",
       "      <th>3</th>\n",
       "      <td>0.990479</td>\n",
       "      <td>0.073486</td>\n",
       "      <td>0.377441</td>\n",
       "    </tr>\n",
       "    <tr>\n",
       "      <th>4</th>\n",
       "      <td>0.946777</td>\n",
       "      <td>0.072266</td>\n",
       "      <td>0.355957</td>\n",
       "    </tr>\n",
       "  </tbody>\n",
       "</table>\n",
       "</div>"
      ],
      "text/plain": [
       "          X         Y         Z\n",
       "0  0.968506  0.117676  0.313721\n",
       "1  1.016113  0.131592  0.382324\n",
       "2  1.020020  0.100830  0.397705\n",
       "3  0.990479  0.073486  0.377441\n",
       "4  0.946777  0.072266  0.355957"
      ]
     },
     "execution_count": 10,
     "metadata": {},
     "output_type": "execute_result"
    }
   ],
   "source": [
    "es.head()"
   ]
  },
  {
   "cell_type": "code",
   "execution_count": 11,
   "metadata": {
    "ExecuteTime": {
     "end_time": "2022-12-13T23:33:12.541402Z",
     "start_time": "2022-12-13T23:32:27.486067Z"
    }
   },
   "outputs": [],
   "source": [
    "# X= np.array(X)\n",
    "feats, train_X, train_Y, valid_X, valid_Y, test_X, test_Y, X, Y, alph_Y, Z, U = generate_datasets_for_training(es, user_ids, cat_labels, alph_labels, window_length)"
   ]
  },
  {
   "cell_type": "code",
   "execution_count": 12,
   "metadata": {
    "ExecuteTime": {
     "end_time": "2022-12-13T23:35:28.001899Z",
     "start_time": "2022-12-13T23:35:27.775562Z"
    }
   },
   "outputs": [
    {
     "name": "stdout",
     "output_type": "stream",
     "text": [
      "Raw:(222454, 3),\n",
      "Features: 3\n",
      "Train: (125088, 4, 3)\n",
      "Valid: (41697, 4, 3) \n",
      "Test: (55596, 4, 3)\n",
      "(222381, 4, 3)\n"
     ]
    }
   ],
   "source": [
    "print(f'Raw:{es.shape},\\nFeatures: {feats}\\nTrain: {train_X.shape}\\nValid: {valid_X.shape} \\nTest: {test_X.shape}\\n{np.array(X).shape}')"
   ]
  },
  {
   "cell_type": "code",
   "execution_count": 13,
   "metadata": {
    "ExecuteTime": {
     "end_time": "2022-12-13T23:35:35.172898Z",
     "start_time": "2022-12-13T23:35:28.297460Z"
    }
   },
   "outputs": [
    {
     "name": "stdout",
     "output_type": "stream",
     "text": [
      "Train labels: (125088, 5)\n",
      "Valid: (41697, 5) \n",
      "Test labels: (55596, 5)\n",
      "Categorical_labels:(222381, 4, 5) \n",
      "Alph labels:(222381, 4)\n",
      "WO block labels:(222381, 5)\n"
     ]
    }
   ],
   "source": [
    "print(f'Train labels: {train_Y.shape}\\nValid: {valid_Y.shape} \\nTest labels: {test_Y.shape}\\nCategorical_labels:{np.array(Y).shape} \\nAlph labels:{np.array(alph_Y).shape}\\nWO block labels:{np.array(Z).shape}')"
   ]
  },
  {
   "cell_type": "code",
   "execution_count": 17,
   "metadata": {
    "ExecuteTime": {
     "end_time": "2022-11-27T21:06:59.453680Z",
     "start_time": "2022-11-27T21:06:53.543637Z"
    }
   },
   "outputs": [],
   "source": [
    "# raw_labels =[]\n",
    "# for block in alph_Y:\n",
    "#     unique_labels=np.unique(block)\n",
    "# #     print(len(unique_labels), unique_labels, block)\n",
    "#     if len(unique_labels)==1:\n",
    "#         raw_labels.append(block)\n",
    "#     if len(unique_labels)>1:\n",
    "#         print(len(unique_labels), unique_labels, block)"
   ]
  },
  {
   "cell_type": "markdown",
   "metadata": {},
   "source": [
    "# Models"
   ]
  },
  {
   "cell_type": "code",
   "execution_count": 14,
   "metadata": {
    "ExecuteTime": {
     "end_time": "2022-12-13T20:37:34.437142Z",
     "start_time": "2022-12-13T20:37:34.430231Z"
    }
   },
   "outputs": [],
   "source": [
    "early_stop = tf.keras.callbacks.EarlyStopping(\n",
    "    monitor='val_loss', min_delta=1e-2, patience=5, verbose=0, mode='auto',\n",
    "    baseline=None, restore_best_weights=True)"
   ]
  },
  {
   "cell_type": "code",
   "execution_count": 14,
   "metadata": {
    "ExecuteTime": {
     "end_time": "2022-12-13T23:35:40.741796Z",
     "start_time": "2022-12-13T23:35:39.124590Z"
    }
   },
   "outputs": [
    {
     "name": "stdout",
     "output_type": "stream",
     "text": [
      "Model: \"model\"\n",
      "_________________________________________________________________\n",
      "Layer (type)                 Output Shape              Param #   \n",
      "=================================================================\n",
      "input_1 (InputLayer)         [(None, 4, 3)]            0         \n",
      "_________________________________________________________________\n",
      "encoder_1 (LSTM)             (None, 4, 128)            67584     \n",
      "_________________________________________________________________\n",
      "encoder_2 (LSTM)             (None, 4, 64)             49408     \n",
      "_________________________________________________________________\n",
      "encoder_3 (LSTM)             (None, 4, 32)             12416     \n",
      "_________________________________________________________________\n",
      "encoder_4 (LSTM)             (None, 16)                3136      \n",
      "_________________________________________________________________\n",
      "encoder_decoder_bridge (Repe (None, 4, 16)             0         \n",
      "_________________________________________________________________\n",
      "decoder_1 (LSTM)             (None, 4, 16)             2112      \n",
      "_________________________________________________________________\n",
      "decoder_2 (LSTM)             (None, 4, 32)             6272      \n",
      "_________________________________________________________________\n",
      "decoder_3 (LSTM)             (None, 4, 64)             24832     \n",
      "_________________________________________________________________\n",
      "decoder_4 (LSTM)             (None, 4, 128)            98816     \n",
      "_________________________________________________________________\n",
      "time_distributed (TimeDistri (None, 4, 3)              387       \n",
      "=================================================================\n",
      "Total params: 264,963\n",
      "Trainable params: 264,963\n",
      "Non-trainable params: 0\n",
      "_________________________________________________________________\n",
      "None\n"
     ]
    }
   ],
   "source": [
    "autoencoder_model, encoder_model = get_autoencoder(window_length,feats)"
   ]
  },
  {
   "cell_type": "code",
   "execution_count": 15,
   "metadata": {
    "ExecuteTime": {
     "end_time": "2022-12-13T23:26:53.110050Z",
     "start_time": "2022-12-13T23:12:32.311763Z"
    }
   },
   "outputs": [
    {
     "name": "stdout",
     "output_type": "stream",
     "text": [
      "Epoch 1/10\n",
      "3909/3909 [==============================] - 95s 23ms/step - loss: 0.0282 - val_loss: 0.0054\n",
      "Epoch 2/10\n",
      "3909/3909 [==============================] - 85s 22ms/step - loss: 0.0044 - val_loss: 0.0029\n",
      "Epoch 3/10\n",
      "3909/3909 [==============================] - 85s 22ms/step - loss: 0.0027 - val_loss: 0.0025\n",
      "Epoch 4/10\n",
      "3909/3909 [==============================] - 85s 22ms/step - loss: 0.0017 - val_loss: 0.0015\n",
      "Epoch 5/10\n",
      "3909/3909 [==============================] - 85s 22ms/step - loss: 0.0013 - val_loss: 0.0012\n",
      "Epoch 6/10\n",
      "3909/3909 [==============================] - 85s 22ms/step - loss: 0.0011 - val_loss: 0.0012\n",
      "Epoch 7/10\n",
      "3909/3909 [==============================] - 85s 22ms/step - loss: 0.0011 - val_loss: 9.9986e-04\n",
      "Epoch 8/10\n",
      "3909/3909 [==============================] - 85s 22ms/step - loss: 9.4022e-04 - val_loss: 9.2390e-04\n",
      "Epoch 9/10\n",
      "3909/3909 [==============================] - 85s 22ms/step - loss: 9.0723e-04 - val_loss: 0.0019\n",
      "Epoch 10/10\n",
      "3909/3909 [==============================] - 85s 22ms/step - loss: 8.7519e-04 - val_loss: 0.0010\n"
     ]
    }
   ],
   "source": [
    "ae_history = train_autoencoder(autoencoder_model, train_X, valid_X, 'controlled', 10, 32)"
   ]
  },
  {
   "cell_type": "code",
   "execution_count": 17,
   "metadata": {
    "ExecuteTime": {
     "end_time": "2022-12-13T23:37:46.484817Z",
     "start_time": "2022-12-13T23:37:44.877319Z"
    }
   },
   "outputs": [],
   "source": [
    "from tensorflow.keras.models import load_model\n",
    "autoencoder_model = load_model(\"controlled_autoencoder_model.h5\")"
   ]
  },
  {
   "cell_type": "code",
   "execution_count": 16,
   "metadata": {
    "ExecuteTime": {
     "end_time": "2022-12-13T23:36:22.930174Z",
     "start_time": "2022-12-13T23:36:22.897280Z"
    }
   },
   "outputs": [
    {
     "name": "stdout",
     "output_type": "stream",
     "text": [
      "Model: \"model_2\"\n",
      "_________________________________________________________________\n",
      "Layer (type)                 Output Shape              Param #   \n",
      "=================================================================\n",
      "input_1 (InputLayer)         [(None, 4, 3)]            0         \n",
      "_________________________________________________________________\n",
      "encoder_1 (LSTM)             (None, 4, 128)            67584     \n",
      "_________________________________________________________________\n",
      "encoder_2 (LSTM)             (None, 4, 64)             49408     \n",
      "_________________________________________________________________\n",
      "encoder_3 (LSTM)             (None, 4, 32)             12416     \n",
      "_________________________________________________________________\n",
      "encoder_4 (LSTM)             (None, 16)                3136      \n",
      "_________________________________________________________________\n",
      "fc1 (Dense)                  (None, 256)               4352      \n",
      "_________________________________________________________________\n",
      "output (Dense)               (None, 5)                 1285      \n",
      "=================================================================\n",
      "Total params: 138,181\n",
      "Trainable params: 138,181\n",
      "Non-trainable params: 0\n",
      "_________________________________________________________________\n",
      "None\n"
     ]
    }
   ],
   "source": [
    "num_classes = 5\n",
    "enc_layer = 4\n",
    "classifier_model = get_classifier(num_classes, enc_layer, autoencoder_model)"
   ]
  },
  {
   "cell_type": "code",
   "execution_count": 19,
   "metadata": {
    "ExecuteTime": {
     "end_time": "2022-12-13T23:55:33.241947Z",
     "start_time": "2022-12-13T23:40:04.181097Z"
    }
   },
   "outputs": [
    {
     "name": "stdout",
     "output_type": "stream",
     "text": [
      "Epoch 1/20\n",
      "3909/3909 [==============================] - 51s 12ms/step - loss: 0.6138 - val_loss: 0.4966\n",
      "Epoch 2/20\n",
      "3909/3909 [==============================] - 46s 12ms/step - loss: 0.4390 - val_loss: 0.4106\n",
      "Epoch 3/20\n",
      "3909/3909 [==============================] - 46s 12ms/step - loss: 0.3741 - val_loss: 0.3723\n",
      "Epoch 4/20\n",
      "3909/3909 [==============================] - 46s 12ms/step - loss: 0.3360 - val_loss: 0.3361\n",
      "Epoch 5/20\n",
      "3909/3909 [==============================] - 46s 12ms/step - loss: 0.3106 - val_loss: 0.3172\n",
      "Epoch 6/20\n",
      "3909/3909 [==============================] - 46s 12ms/step - loss: 0.2931 - val_loss: 0.3099\n",
      "Epoch 7/20\n",
      "3909/3909 [==============================] - 46s 12ms/step - loss: 0.2786 - val_loss: 0.3005\n",
      "Epoch 8/20\n",
      "3909/3909 [==============================] - 46s 12ms/step - loss: 0.2667 - val_loss: 0.2906\n",
      "Epoch 9/20\n",
      "3909/3909 [==============================] - 46s 12ms/step - loss: 0.2559 - val_loss: 0.2915\n",
      "Epoch 10/20\n",
      "3909/3909 [==============================] - 46s 12ms/step - loss: 0.2467 - val_loss: 0.2886\n",
      "Epoch 11/20\n",
      "3909/3909 [==============================] - 46s 12ms/step - loss: 0.2376 - val_loss: 0.2851\n",
      "Epoch 12/20\n",
      "3909/3909 [==============================] - 46s 12ms/step - loss: 0.2286 - val_loss: 0.2825\n",
      "Epoch 13/20\n",
      "3909/3909 [==============================] - 46s 12ms/step - loss: 0.2213 - val_loss: 0.2829\n",
      "Epoch 14/20\n",
      "3909/3909 [==============================] - 46s 12ms/step - loss: 0.2143 - val_loss: 0.2888\n",
      "Epoch 15/20\n",
      "3909/3909 [==============================] - 46s 12ms/step - loss: 0.2064 - val_loss: 0.2774\n",
      "Epoch 16/20\n",
      "3909/3909 [==============================] - 46s 12ms/step - loss: 0.2008 - val_loss: 0.2820\n",
      "Epoch 17/20\n",
      "3909/3909 [==============================] - 46s 12ms/step - loss: 0.1944 - val_loss: 0.2788\n",
      "Epoch 18/20\n",
      "3909/3909 [==============================] - 46s 12ms/step - loss: 0.1879 - val_loss: 0.2859\n",
      "Epoch 19/20\n",
      "3909/3909 [==============================] - 46s 12ms/step - loss: 0.1829 - val_loss: 0.2799\n",
      "Epoch 20/20\n",
      "3909/3909 [==============================] - 46s 12ms/step - loss: 0.1763 - val_loss: 0.2973\n"
     ]
    }
   ],
   "source": [
    "cl_history = train_classfier(classifier_model, train_X, train_Y, valid_X, valid_Y, 'controlled', 20, 32)"
   ]
  },
  {
   "cell_type": "code",
   "execution_count": null,
   "metadata": {},
   "outputs": [],
   "source": []
  }
 ],
 "metadata": {
  "kernelspec": {
   "display_name": "Python 3",
   "language": "python",
   "name": "python3"
  },
  "language_info": {
   "codemirror_mode": {
    "name": "ipython",
    "version": 3
   },
   "file_extension": ".py",
   "mimetype": "text/x-python",
   "name": "python",
   "nbconvert_exporter": "python",
   "pygments_lexer": "ipython3",
   "version": "3.6.9"
  },
  "toc": {
   "base_numbering": 1,
   "nav_menu": {},
   "number_sections": true,
   "sideBar": true,
   "skip_h1_title": false,
   "title_cell": "Table of Contents",
   "title_sidebar": "Contents",
   "toc_cell": false,
   "toc_position": {},
   "toc_section_display": true,
   "toc_window_display": false
  }
 },
 "nbformat": 4,
 "nbformat_minor": 2
}
