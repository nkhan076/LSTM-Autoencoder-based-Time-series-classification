{
 "cells": [
  {
   "cell_type": "code",
   "execution_count": 1,
   "metadata": {
    "ExecuteTime": {
     "end_time": "2022-12-13T11:02:28.322732Z",
     "start_time": "2022-12-13T11:02:27.779306Z"
    }
   },
   "outputs": [],
   "source": [
    "import pandas as pd"
   ]
  },
  {
   "cell_type": "code",
   "execution_count": 2,
   "metadata": {
    "ExecuteTime": {
     "end_time": "2022-12-13T11:02:29.284513Z",
     "start_time": "2022-12-13T11:02:29.274411Z"
    }
   },
   "outputs": [],
   "source": [
    "dict_user= {'ashwaq':[1, 'controlled'],\n",
    "            'haneen':[2, 'controlled'],\n",
    "            'hind'  :[3, 'controlled'],\n",
    "            'nada'  :[4, 'controlled'],\n",
    "            'shrooq':[5, 'controlled'],\n",
    "            'amita':[6, 'uncontrolled'],\n",
    "            'aya':[7, 'uncontrolled'],\n",
    "            'naima':[8, 'uncontrolled'],\n",
    "            'nisreen':[9, 'uncontrolled'],\n",
    "            'sara':[10, 'uncontrolled']\n",
    "            \n",
    "           }"
   ]
  },
  {
   "cell_type": "code",
   "execution_count": 3,
   "metadata": {
    "ExecuteTime": {
     "end_time": "2022-12-13T11:02:30.231806Z",
     "start_time": "2022-12-13T11:02:30.226898Z"
    }
   },
   "outputs": [],
   "source": [
    "activities = ['cream', 'eye', 'gloss', 'mascara', 'blush']"
   ]
  },
  {
   "cell_type": "code",
   "execution_count": 4,
   "metadata": {
    "ExecuteTime": {
     "end_time": "2022-12-13T11:02:31.771763Z",
     "start_time": "2022-12-13T11:02:31.758958Z"
    }
   },
   "outputs": [],
   "source": [
    "base_dir = 'Final_Raw/'\n",
    "controlled_list_paths = []\n",
    "uncontrolled_list_paths =[]\n",
    "for u, value in dict_user.items():\n",
    "    if value[1]=='uncontrolled':\n",
    "        dir_ = base_dir+ 'Uncontrolled_raw/'+u\n",
    "        for ac in activities:\n",
    "            path = dir_+'/acc/'+ac+'.csv'\n",
    "#             print(path)\n",
    "            uncontrolled_list_paths.append(path)        \n",
    "        \n",
    "    elif value[1]=='controlled':\n",
    "        dir_ = base_dir+'Controlled_raw/'+u       \n",
    "        for ac in activities:\n",
    "            path = dir_+'/acc/'+ac+'.csv'\n",
    "#             print(path)\n",
    "            controlled_list_paths.append(path)   "
   ]
  },
  {
   "cell_type": "code",
   "execution_count": 5,
   "metadata": {
    "ExecuteTime": {
     "end_time": "2022-12-13T11:04:13.823633Z",
     "start_time": "2022-12-13T11:04:13.807975Z"
    }
   },
   "outputs": [
    {
     "data": {
      "text/plain": [
       "['Final_Raw', 'Controlled_raw', 'ashwaq', 'acc', 'cream.csv']"
      ]
     },
     "execution_count": 5,
     "metadata": {},
     "output_type": "execute_result"
    }
   ],
   "source": [
    "controlled_list_paths[0].split('/')"
   ]
  },
  {
   "cell_type": "code",
   "execution_count": 6,
   "metadata": {},
   "outputs": [
    {
     "data": {
      "text/plain": [
       "1"
      ]
     },
     "execution_count": 6,
     "metadata": {},
     "output_type": "execute_result"
    }
   ],
   "source": [
    "dict_user['ashwaq'][0]"
   ]
  },
  {
   "cell_type": "code",
   "execution_count": 10,
   "metadata": {},
   "outputs": [
    {
     "name": "stdout",
     "output_type": "stream",
     "text": [
      "Final_Raw/Controlled_raw/nada/acc/mascara.csv is not found!\n"
     ]
    }
   ],
   "source": [
    "list_controlled=[]\n",
    "for p in controlled_list_paths:\n",
    "    try:\n",
    "        df = pd.read_csv(p)\n",
    "        path_words = p.split('/')\n",
    "        user = path_words[2]\n",
    "        df['user'] = user\n",
    "        df['user_id'] = dict_user[user][0]\n",
    "        df['is_controlled'] = dict_user[user][1]\n",
    "        df['label'] = path_words[4].split('.')[0]\n",
    "        list_controlled.append(df)\n",
    "    except:\n",
    "        print(f'{p} is not found!')\n",
    "\n",
    "        \n",
    "        \n",
    "list_uncontrolled = []\n",
    "for p in uncontrolled_list_paths:\n",
    "    try:\n",
    "        df = pd.read_csv(p)\n",
    "        path_words = p.split('/')\n",
    "        user = path_words[2]\n",
    "        df['user'] = user\n",
    "        df['user_id'] = dict_user[user][0]\n",
    "        df['is_controlled'] = dict_user[user][1]\n",
    "        df['label'] = path_words[4].split('.')[0]        \n",
    "        list_uncontrolled.append(df)\n",
    "    except:\n",
    "        print(f'{p} is not found!')"
   ]
  },
  {
   "cell_type": "code",
   "execution_count": 11,
   "metadata": {},
   "outputs": [],
   "source": [
    "uncon_df=pd.concat(list_uncontrolled)\n",
    "con_df=pd.concat(list_controlled)"
   ]
  },
  {
   "cell_type": "code",
   "execution_count": 13,
   "metadata": {},
   "outputs": [
    {
     "data": {
      "text/html": [
       "<div>\n",
       "<style scoped>\n",
       "    .dataframe tbody tr th:only-of-type {\n",
       "        vertical-align: middle;\n",
       "    }\n",
       "\n",
       "    .dataframe tbody tr th {\n",
       "        vertical-align: top;\n",
       "    }\n",
       "\n",
       "    .dataframe thead th {\n",
       "        text-align: right;\n",
       "    }\n",
       "</style>\n",
       "<table border=\"1\" class=\"dataframe\">\n",
       "  <thead>\n",
       "    <tr style=\"text-align: right;\">\n",
       "      <th></th>\n",
       "      <th>Timestamp</th>\n",
       "      <th>DateTime</th>\n",
       "      <th>X</th>\n",
       "      <th>Y</th>\n",
       "      <th>Z</th>\n",
       "      <th>user</th>\n",
       "      <th>user_id</th>\n",
       "      <th>is_controlled</th>\n",
       "      <th>label</th>\n",
       "    </tr>\n",
       "  </thead>\n",
       "  <tbody>\n",
       "    <tr>\n",
       "      <th>0</th>\n",
       "      <td>1550893511286</td>\n",
       "      <td>Feb 22, 2019 22:45:11</td>\n",
       "      <td>0.968506</td>\n",
       "      <td>0.117676</td>\n",
       "      <td>0.313721</td>\n",
       "      <td>ashwaq</td>\n",
       "      <td>1</td>\n",
       "      <td>controlled</td>\n",
       "      <td>cream</td>\n",
       "    </tr>\n",
       "    <tr>\n",
       "      <th>1</th>\n",
       "      <td>1550893511318</td>\n",
       "      <td>Feb 22, 2019 22:45:11</td>\n",
       "      <td>1.016113</td>\n",
       "      <td>0.131592</td>\n",
       "      <td>0.382324</td>\n",
       "      <td>ashwaq</td>\n",
       "      <td>1</td>\n",
       "      <td>controlled</td>\n",
       "      <td>cream</td>\n",
       "    </tr>\n",
       "    <tr>\n",
       "      <th>2</th>\n",
       "      <td>1550893511332</td>\n",
       "      <td>Feb 22, 2019 22:45:11</td>\n",
       "      <td>1.020020</td>\n",
       "      <td>0.100830</td>\n",
       "      <td>0.397705</td>\n",
       "      <td>ashwaq</td>\n",
       "      <td>1</td>\n",
       "      <td>controlled</td>\n",
       "      <td>cream</td>\n",
       "    </tr>\n",
       "    <tr>\n",
       "      <th>3</th>\n",
       "      <td>1550893511365</td>\n",
       "      <td>Feb 22, 2019 22:45:11</td>\n",
       "      <td>0.990479</td>\n",
       "      <td>0.073486</td>\n",
       "      <td>0.377441</td>\n",
       "      <td>ashwaq</td>\n",
       "      <td>1</td>\n",
       "      <td>controlled</td>\n",
       "      <td>cream</td>\n",
       "    </tr>\n",
       "    <tr>\n",
       "      <th>4</th>\n",
       "      <td>1550893511406</td>\n",
       "      <td>Feb 22, 2019 22:45:11</td>\n",
       "      <td>0.946777</td>\n",
       "      <td>0.072266</td>\n",
       "      <td>0.355957</td>\n",
       "      <td>ashwaq</td>\n",
       "      <td>1</td>\n",
       "      <td>controlled</td>\n",
       "      <td>cream</td>\n",
       "    </tr>\n",
       "  </tbody>\n",
       "</table>\n",
       "</div>"
      ],
      "text/plain": [
       "       Timestamp               DateTime         X         Y         Z    user  \\\n",
       "0  1550893511286  Feb 22, 2019 22:45:11  0.968506  0.117676  0.313721  ashwaq   \n",
       "1  1550893511318  Feb 22, 2019 22:45:11  1.016113  0.131592  0.382324  ashwaq   \n",
       "2  1550893511332  Feb 22, 2019 22:45:11  1.020020  0.100830  0.397705  ashwaq   \n",
       "3  1550893511365  Feb 22, 2019 22:45:11  0.990479  0.073486  0.377441  ashwaq   \n",
       "4  1550893511406  Feb 22, 2019 22:45:11  0.946777  0.072266  0.355957  ashwaq   \n",
       "\n",
       "   user_id is_controlled  label  \n",
       "0        1    controlled  cream  \n",
       "1        1    controlled  cream  \n",
       "2        1    controlled  cream  \n",
       "3        1    controlled  cream  \n",
       "4        1    controlled  cream  "
      ]
     },
     "execution_count": 13,
     "metadata": {},
     "output_type": "execute_result"
    }
   ],
   "source": [
    "con_df.head()"
   ]
  },
  {
   "cell_type": "code",
   "execution_count": 14,
   "metadata": {},
   "outputs": [],
   "source": [
    "uncon_df.to_csv('uncontrolled.csv')\n",
    "con_df.to_csv('controlled.csv')"
   ]
  },
  {
   "cell_type": "code",
   "execution_count": null,
   "metadata": {},
   "outputs": [],
   "source": [
    "## "
   ]
  },
  {
   "cell_type": "code",
   "execution_count": null,
   "metadata": {},
   "outputs": [],
   "source": []
  }
 ],
 "metadata": {
  "kernelspec": {
   "display_name": "Python 3",
   "language": "python",
   "name": "python3"
  },
  "language_info": {
   "codemirror_mode": {
    "name": "ipython",
    "version": 3
   },
   "file_extension": ".py",
   "mimetype": "text/x-python",
   "name": "python",
   "nbconvert_exporter": "python",
   "pygments_lexer": "ipython3",
   "version": "3.6.9"
  },
  "toc": {
   "base_numbering": 1,
   "nav_menu": {},
   "number_sections": true,
   "sideBar": true,
   "skip_h1_title": false,
   "title_cell": "Table of Contents",
   "title_sidebar": "Contents",
   "toc_cell": false,
   "toc_position": {},
   "toc_section_display": true,
   "toc_window_display": false
  }
 },
 "nbformat": 4,
 "nbformat_minor": 2
}
